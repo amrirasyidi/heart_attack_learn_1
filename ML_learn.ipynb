{
 "cells": [
  {
   "cell_type": "code",
   "execution_count": 1,
   "metadata": {},
   "outputs": [],
   "source": [
    "import pandas as pd\n",
    "import numpy as np\n",
    "from scipy.stats import gaussian_kde\n",
    "import matplotlib.pyplot as plt\n",
    "import seaborn as sns\n",
    "from plotnine import *\n",
    "\n",
    "%matplotlib inline"
   ]
  },
  {
   "cell_type": "markdown",
   "metadata": {},
   "source": [
    "### About this dataset\n",
    "- **Age** : Age of the patient\n",
    "\n",
    "- **Sex** : Sex of the patient\n",
    "\n",
    "- **exang**: exercise induced angina (1 = yes; 0 = no)\n",
    "\n",
    "- **ca**: number of major vessels (0-3)\n",
    "\n",
    "- **cp** : Chest Pain type chest pain type\n",
    "    - Value 1: typical angina\n",
    "    - Value 2: atypical angina\n",
    "    - Value 3: non-anginal pain\n",
    "    - Value 4: asymptomatic\n",
    "\n",
    "- **trestbps** : resting blood pressure (in mm Hg)\n",
    "\n",
    "- **chol** : cholestoral in mg/dl fetched via BMI sensor\n",
    "\n",
    "- **fbs** : (fasting blood sugar > 120 mg/dl) (1 = true; 0 = false)\n",
    "\n",
    "- **restecg** : resting electrocardiographic results\n",
    "    - Value 0: normal\n",
    "    - Value 1: having ST-T wave abnormality (T wave inversions and/or ST elevation or depression of > 0.05 mV)\n",
    "    - Value 2: showing probable or definite left ventricular hypertrophy by Estes' criteria\n",
    "\n",
    "- **thalach** : maximum heart rate achieved\n",
    "\n",
    "- **target** : 0= less chance of heart attack 1= more chance of heart attack"
   ]
  },
  {
   "cell_type": "code",
   "execution_count": 196,
   "metadata": {},
   "outputs": [
    {
     "data": {
      "text/html": [
       "<div>\n",
       "<style scoped>\n",
       "    .dataframe tbody tr th:only-of-type {\n",
       "        vertical-align: middle;\n",
       "    }\n",
       "\n",
       "    .dataframe tbody tr th {\n",
       "        vertical-align: top;\n",
       "    }\n",
       "\n",
       "    .dataframe thead th {\n",
       "        text-align: right;\n",
       "    }\n",
       "</style>\n",
       "<table border=\"1\" class=\"dataframe\">\n",
       "  <thead>\n",
       "    <tr style=\"text-align: right;\">\n",
       "      <th></th>\n",
       "      <th>Age</th>\n",
       "      <th>Sex</th>\n",
       "      <th>Chest Pain Type</th>\n",
       "      <th>Resting Blood Pressure</th>\n",
       "      <th>Cholesterol</th>\n",
       "      <th>Fasting Blood Sugar</th>\n",
       "      <th>Resting ECG</th>\n",
       "      <th>Max. HR Acheived</th>\n",
       "      <th>Exercise Induced Angina</th>\n",
       "      <th>ST Depression</th>\n",
       "      <th>ST Slope</th>\n",
       "      <th>Num. Major Blood Vessels</th>\n",
       "      <th>Thalassemia</th>\n",
       "      <th>Condition</th>\n",
       "    </tr>\n",
       "  </thead>\n",
       "  <tbody>\n",
       "    <tr>\n",
       "      <td>0</td>\n",
       "      <td>63</td>\n",
       "      <td>1</td>\n",
       "      <td>3</td>\n",
       "      <td>145</td>\n",
       "      <td>233</td>\n",
       "      <td>1</td>\n",
       "      <td>0</td>\n",
       "      <td>150</td>\n",
       "      <td>0</td>\n",
       "      <td>2.3</td>\n",
       "      <td>0</td>\n",
       "      <td>0</td>\n",
       "      <td>1</td>\n",
       "      <td>0</td>\n",
       "    </tr>\n",
       "    <tr>\n",
       "      <td>1</td>\n",
       "      <td>37</td>\n",
       "      <td>1</td>\n",
       "      <td>2</td>\n",
       "      <td>130</td>\n",
       "      <td>250</td>\n",
       "      <td>0</td>\n",
       "      <td>1</td>\n",
       "      <td>187</td>\n",
       "      <td>0</td>\n",
       "      <td>3.5</td>\n",
       "      <td>0</td>\n",
       "      <td>0</td>\n",
       "      <td>2</td>\n",
       "      <td>0</td>\n",
       "    </tr>\n",
       "    <tr>\n",
       "      <td>2</td>\n",
       "      <td>41</td>\n",
       "      <td>0</td>\n",
       "      <td>1</td>\n",
       "      <td>130</td>\n",
       "      <td>204</td>\n",
       "      <td>0</td>\n",
       "      <td>0</td>\n",
       "      <td>172</td>\n",
       "      <td>0</td>\n",
       "      <td>1.4</td>\n",
       "      <td>2</td>\n",
       "      <td>0</td>\n",
       "      <td>2</td>\n",
       "      <td>0</td>\n",
       "    </tr>\n",
       "    <tr>\n",
       "      <td>3</td>\n",
       "      <td>56</td>\n",
       "      <td>1</td>\n",
       "      <td>1</td>\n",
       "      <td>120</td>\n",
       "      <td>236</td>\n",
       "      <td>0</td>\n",
       "      <td>1</td>\n",
       "      <td>178</td>\n",
       "      <td>0</td>\n",
       "      <td>0.8</td>\n",
       "      <td>2</td>\n",
       "      <td>0</td>\n",
       "      <td>2</td>\n",
       "      <td>0</td>\n",
       "    </tr>\n",
       "    <tr>\n",
       "      <td>4</td>\n",
       "      <td>57</td>\n",
       "      <td>0</td>\n",
       "      <td>0</td>\n",
       "      <td>120</td>\n",
       "      <td>354</td>\n",
       "      <td>0</td>\n",
       "      <td>1</td>\n",
       "      <td>163</td>\n",
       "      <td>1</td>\n",
       "      <td>0.6</td>\n",
       "      <td>2</td>\n",
       "      <td>0</td>\n",
       "      <td>2</td>\n",
       "      <td>0</td>\n",
       "    </tr>\n",
       "  </tbody>\n",
       "</table>\n",
       "</div>"
      ],
      "text/plain": [
       "   Age  Sex  Chest Pain Type  Resting Blood Pressure  Cholesterol  \\\n",
       "0   63    1                3                     145          233   \n",
       "1   37    1                2                     130          250   \n",
       "2   41    0                1                     130          204   \n",
       "3   56    1                1                     120          236   \n",
       "4   57    0                0                     120          354   \n",
       "\n",
       "   Fasting Blood Sugar  Resting ECG  Max. HR Acheived  \\\n",
       "0                    1            0               150   \n",
       "1                    0            1               187   \n",
       "2                    0            0               172   \n",
       "3                    0            1               178   \n",
       "4                    0            1               163   \n",
       "\n",
       "   Exercise Induced Angina  ST Depression  ST Slope  Num. Major Blood Vessels  \\\n",
       "0                        0            2.3         0                         0   \n",
       "1                        0            3.5         0                         0   \n",
       "2                        0            1.4         2                         0   \n",
       "3                        0            0.8         2                         0   \n",
       "4                        1            0.6         2                         0   \n",
       "\n",
       "   Thalassemia  Condition  \n",
       "0            1          0  \n",
       "1            2          0  \n",
       "2            2          0  \n",
       "3            2          0  \n",
       "4            2          0  "
      ]
     },
     "execution_count": 196,
     "metadata": {},
     "output_type": "execute_result"
    }
   ],
   "source": [
    "heart = pd.read_csv('heart.csv')\n",
    "\n",
    "# swap the heart attack condition, it suspected to be swapped from the source dataset\n",
    "heart['target'] = heart['target'].apply(lambda x: 1 if x == 0 else 0)\n",
    "\n",
    "# renaming the column header\n",
    "heart.columns = ['Age', \n",
    "                 'Sex', \n",
    "                 'Chest Pain Type', \n",
    "                 'Resting Blood Pressure',\n",
    "                 'Cholesterol',\n",
    "                 'Fasting Blood Sugar', \n",
    "                 'Resting ECG', \n",
    "                 'Max. HR Acheived',\n",
    "                 'Exercise Induced Angina', \n",
    "                 'ST Depression', \n",
    "                 'ST Slope', \n",
    "                 'Num. Major Blood Vessels', \n",
    "                 'Thalassemia', \n",
    "                 'Condition'\n",
    "                ]\n",
    "\n",
    "heart.head()"
   ]
  },
  {
   "cell_type": "code",
   "execution_count": 325,
   "metadata": {},
   "outputs": [
    {
     "data": {
      "text/html": [
       "<div>\n",
       "<style scoped>\n",
       "    .dataframe tbody tr th:only-of-type {\n",
       "        vertical-align: middle;\n",
       "    }\n",
       "\n",
       "    .dataframe tbody tr th {\n",
       "        vertical-align: top;\n",
       "    }\n",
       "\n",
       "    .dataframe thead th {\n",
       "        text-align: right;\n",
       "    }\n",
       "</style>\n",
       "<table border=\"1\" class=\"dataframe\">\n",
       "  <thead>\n",
       "    <tr style=\"text-align: right;\">\n",
       "      <th></th>\n",
       "      <th>Age</th>\n",
       "      <th>Sex</th>\n",
       "      <th>Chest Pain Type</th>\n",
       "      <th>Resting Blood Pressure</th>\n",
       "      <th>Cholesterol</th>\n",
       "      <th>Fasting Blood Sugar</th>\n",
       "      <th>Resting ECG</th>\n",
       "      <th>Max. HR Acheived</th>\n",
       "      <th>Exercise Induced Angina</th>\n",
       "      <th>ST Depression</th>\n",
       "      <th>ST Slope</th>\n",
       "      <th>Num. Major Blood Vessels</th>\n",
       "      <th>Thalassemia</th>\n",
       "      <th>Condition</th>\n",
       "    </tr>\n",
       "  </thead>\n",
       "  <tbody>\n",
       "    <tr>\n",
       "      <td>count</td>\n",
       "      <td>303.000000</td>\n",
       "      <td>303.000000</td>\n",
       "      <td>303.000000</td>\n",
       "      <td>303.000000</td>\n",
       "      <td>303.000000</td>\n",
       "      <td>303.000000</td>\n",
       "      <td>303.000000</td>\n",
       "      <td>303.000000</td>\n",
       "      <td>303.000000</td>\n",
       "      <td>303.000000</td>\n",
       "      <td>303.000000</td>\n",
       "      <td>303.000000</td>\n",
       "      <td>303.000000</td>\n",
       "      <td>303.000000</td>\n",
       "    </tr>\n",
       "    <tr>\n",
       "      <td>mean</td>\n",
       "      <td>54.366337</td>\n",
       "      <td>0.683168</td>\n",
       "      <td>0.966997</td>\n",
       "      <td>131.623762</td>\n",
       "      <td>246.264026</td>\n",
       "      <td>0.148515</td>\n",
       "      <td>0.528053</td>\n",
       "      <td>149.646865</td>\n",
       "      <td>0.326733</td>\n",
       "      <td>1.039604</td>\n",
       "      <td>1.399340</td>\n",
       "      <td>0.729373</td>\n",
       "      <td>2.313531</td>\n",
       "      <td>0.455446</td>\n",
       "    </tr>\n",
       "    <tr>\n",
       "      <td>std</td>\n",
       "      <td>9.082101</td>\n",
       "      <td>0.466011</td>\n",
       "      <td>1.032052</td>\n",
       "      <td>17.538143</td>\n",
       "      <td>51.830751</td>\n",
       "      <td>0.356198</td>\n",
       "      <td>0.525860</td>\n",
       "      <td>22.905161</td>\n",
       "      <td>0.469794</td>\n",
       "      <td>1.161075</td>\n",
       "      <td>0.616226</td>\n",
       "      <td>1.022606</td>\n",
       "      <td>0.612277</td>\n",
       "      <td>0.498835</td>\n",
       "    </tr>\n",
       "    <tr>\n",
       "      <td>min</td>\n",
       "      <td>29.000000</td>\n",
       "      <td>0.000000</td>\n",
       "      <td>0.000000</td>\n",
       "      <td>94.000000</td>\n",
       "      <td>126.000000</td>\n",
       "      <td>0.000000</td>\n",
       "      <td>0.000000</td>\n",
       "      <td>71.000000</td>\n",
       "      <td>0.000000</td>\n",
       "      <td>0.000000</td>\n",
       "      <td>0.000000</td>\n",
       "      <td>0.000000</td>\n",
       "      <td>0.000000</td>\n",
       "      <td>0.000000</td>\n",
       "    </tr>\n",
       "    <tr>\n",
       "      <td>25%</td>\n",
       "      <td>47.500000</td>\n",
       "      <td>0.000000</td>\n",
       "      <td>0.000000</td>\n",
       "      <td>120.000000</td>\n",
       "      <td>211.000000</td>\n",
       "      <td>0.000000</td>\n",
       "      <td>0.000000</td>\n",
       "      <td>133.500000</td>\n",
       "      <td>0.000000</td>\n",
       "      <td>0.000000</td>\n",
       "      <td>1.000000</td>\n",
       "      <td>0.000000</td>\n",
       "      <td>2.000000</td>\n",
       "      <td>0.000000</td>\n",
       "    </tr>\n",
       "    <tr>\n",
       "      <td>50%</td>\n",
       "      <td>55.000000</td>\n",
       "      <td>1.000000</td>\n",
       "      <td>1.000000</td>\n",
       "      <td>130.000000</td>\n",
       "      <td>240.000000</td>\n",
       "      <td>0.000000</td>\n",
       "      <td>1.000000</td>\n",
       "      <td>153.000000</td>\n",
       "      <td>0.000000</td>\n",
       "      <td>0.800000</td>\n",
       "      <td>1.000000</td>\n",
       "      <td>0.000000</td>\n",
       "      <td>2.000000</td>\n",
       "      <td>0.000000</td>\n",
       "    </tr>\n",
       "    <tr>\n",
       "      <td>75%</td>\n",
       "      <td>61.000000</td>\n",
       "      <td>1.000000</td>\n",
       "      <td>2.000000</td>\n",
       "      <td>140.000000</td>\n",
       "      <td>274.500000</td>\n",
       "      <td>0.000000</td>\n",
       "      <td>1.000000</td>\n",
       "      <td>166.000000</td>\n",
       "      <td>1.000000</td>\n",
       "      <td>1.600000</td>\n",
       "      <td>2.000000</td>\n",
       "      <td>1.000000</td>\n",
       "      <td>3.000000</td>\n",
       "      <td>1.000000</td>\n",
       "    </tr>\n",
       "    <tr>\n",
       "      <td>max</td>\n",
       "      <td>77.000000</td>\n",
       "      <td>1.000000</td>\n",
       "      <td>3.000000</td>\n",
       "      <td>200.000000</td>\n",
       "      <td>564.000000</td>\n",
       "      <td>1.000000</td>\n",
       "      <td>2.000000</td>\n",
       "      <td>202.000000</td>\n",
       "      <td>1.000000</td>\n",
       "      <td>6.200000</td>\n",
       "      <td>2.000000</td>\n",
       "      <td>4.000000</td>\n",
       "      <td>3.000000</td>\n",
       "      <td>1.000000</td>\n",
       "    </tr>\n",
       "  </tbody>\n",
       "</table>\n",
       "</div>"
      ],
      "text/plain": [
       "              Age         Sex  Chest Pain Type  Resting Blood Pressure  \\\n",
       "count  303.000000  303.000000       303.000000              303.000000   \n",
       "mean    54.366337    0.683168         0.966997              131.623762   \n",
       "std      9.082101    0.466011         1.032052               17.538143   \n",
       "min     29.000000    0.000000         0.000000               94.000000   \n",
       "25%     47.500000    0.000000         0.000000              120.000000   \n",
       "50%     55.000000    1.000000         1.000000              130.000000   \n",
       "75%     61.000000    1.000000         2.000000              140.000000   \n",
       "max     77.000000    1.000000         3.000000              200.000000   \n",
       "\n",
       "       Cholesterol  Fasting Blood Sugar  Resting ECG  Max. HR Acheived  \\\n",
       "count   303.000000           303.000000   303.000000        303.000000   \n",
       "mean    246.264026             0.148515     0.528053        149.646865   \n",
       "std      51.830751             0.356198     0.525860         22.905161   \n",
       "min     126.000000             0.000000     0.000000         71.000000   \n",
       "25%     211.000000             0.000000     0.000000        133.500000   \n",
       "50%     240.000000             0.000000     1.000000        153.000000   \n",
       "75%     274.500000             0.000000     1.000000        166.000000   \n",
       "max     564.000000             1.000000     2.000000        202.000000   \n",
       "\n",
       "       Exercise Induced Angina  ST Depression    ST Slope  \\\n",
       "count               303.000000     303.000000  303.000000   \n",
       "mean                  0.326733       1.039604    1.399340   \n",
       "std                   0.469794       1.161075    0.616226   \n",
       "min                   0.000000       0.000000    0.000000   \n",
       "25%                   0.000000       0.000000    1.000000   \n",
       "50%                   0.000000       0.800000    1.000000   \n",
       "75%                   1.000000       1.600000    2.000000   \n",
       "max                   1.000000       6.200000    2.000000   \n",
       "\n",
       "       Num. Major Blood Vessels  Thalassemia   Condition  \n",
       "count                303.000000   303.000000  303.000000  \n",
       "mean                   0.729373     2.313531    0.455446  \n",
       "std                    1.022606     0.612277    0.498835  \n",
       "min                    0.000000     0.000000    0.000000  \n",
       "25%                    0.000000     2.000000    0.000000  \n",
       "50%                    0.000000     2.000000    0.000000  \n",
       "75%                    1.000000     3.000000    1.000000  \n",
       "max                    4.000000     3.000000    1.000000  "
      ]
     },
     "execution_count": 325,
     "metadata": {},
     "output_type": "execute_result"
    }
   ],
   "source": [
    "heart.describe()"
   ]
  },
  {
   "cell_type": "code",
   "execution_count": 4,
   "metadata": {},
   "outputs": [
    {
     "name": "stdout",
     "output_type": "stream",
     "text": [
      "<class 'pandas.core.frame.DataFrame'>\n",
      "RangeIndex: 303 entries, 0 to 302\n",
      "Data columns (total 14 columns):\n",
      "Age                         303 non-null int64\n",
      "Sex                         303 non-null category\n",
      "Chest Pain Type             303 non-null category\n",
      "Resting Blood Pressure      303 non-null int64\n",
      "Cholesterol                 303 non-null int64\n",
      "Fasting Blood Sugar         303 non-null category\n",
      "Resting ECG                 303 non-null category\n",
      "Max. HR Acheived            303 non-null int64\n",
      "Exercise Induced Angina     303 non-null category\n",
      "ST Depression               303 non-null float64\n",
      "ST Slope                    303 non-null category\n",
      "Num. Major Blood Vessels    303 non-null category\n",
      "Thalassemia                 303 non-null category\n",
      "Condition                   303 non-null category\n",
      "dtypes: category(9), float64(1), int64(4)\n",
      "memory usage: 15.8 KB\n"
     ]
    }
   ],
   "source": [
    "# converting the data types accordingly\n",
    "categorical = heart.columns[heart.nunique()<=5]\n",
    "\n",
    "for i in categorical:\n",
    "    heart[i] = heart[i].astype(\"category\")\n",
    "\n",
    "heart.info()"
   ]
  },
  {
   "cell_type": "markdown",
   "metadata": {},
   "source": [
    "**We don't have to worry about null value because none of the column has null value**"
   ]
  },
  {
   "cell_type": "code",
   "execution_count": 5,
   "metadata": {},
   "outputs": [
    {
     "data": {
      "image/png": "[encoded data removed]",
      "text/plain": [
       "<Figure size 640x480 with 1 Axes>"
      ]
     },
     "metadata": {
      "needs_background": "light"
     },
     "output_type": "display_data"
    },
    {
     "data": {
      "text/plain": [
       "<ggplot: (-9223371931581298312)>"
      ]
     },
     "execution_count": 5,
     "metadata": {},
     "output_type": "execute_result"
    }
   ],
   "source": [
    "# checking data balance\n",
    "\n",
    "(ggplot(heart)\n",
    " + aes(x = 'Condition', fill = 'Condition')\n",
    " + geom_bar(show_legend=False)\n",
    " + annotate('text', x=1, y = 80, \n",
    "            label=\"{:.2%}\".format(heart.Condition.value_counts().iloc[0]/heart.Condition.value_counts().sum()), \n",
    "            color = 'white', size = 30)\n",
    " + annotate('text', x=2, y = 80, \n",
    "            label=\"{:.2%}\".format(heart.Condition.value_counts().iloc[1]/heart.Condition.value_counts().sum()), \n",
    "            color = 'white', size = 30)\n",
    " + theme_bw()\n",
    " + theme(\n",
    "    plot_background = element_blank(),\n",
    "    panel_grid_major = element_blank(),\n",
    "    panel_grid_minor = element_blank(),\n",
    "    panel_border = element_blank(),\n",
    "  )\n",
    " + labs(title = 'Data Balance', y = '')\n",
    " + scale_fill_manual(values = (\"lightblue\",\"#F24040\"))\n",
    ")"
   ]
  },
  {
   "cell_type": "markdown",
   "metadata": {},
   "source": [
    "The dataset we have seems balanced.\n",
    "\n",
    "However, heart attack is actually a somewhat rare diseases. This balanced dataset probably won't picture the realest condition of our world, therefore there may be an overestimation of heart attack probability on our machine learning model later."
   ]
  },
  {
   "cell_type": "code",
   "execution_count": 6,
   "metadata": {},
   "outputs": [],
   "source": [
    "# https://stackoverflow.com/questions/62375034/find-non-overlapping-area-between-two-kde-plots-in-python\n",
    "\n",
    "def kde_overlap_cal(parameter = 'Age'):\n",
    "    x0 = heart.loc[heart['Condition'] == 0, str(parameter)]\n",
    "    x1 = heart.loc[heart['Condition'] == 1, str(parameter)]\n",
    "\n",
    "    kde0 = gaussian_kde(x0, bw_method=0.3)\n",
    "    kde1 = gaussian_kde(x1, bw_method=0.3)\n",
    "\n",
    "    xmin = min(x0.min(), x1.min())\n",
    "    xmax = min(x0.max(), x1.max())\n",
    "    dx = 0.2 * (xmax - xmin) # add a 20% margin, as the kde is wider than the data\n",
    "    xmin -= dx\n",
    "    xmax += dx\n",
    "\n",
    "    x = np.linspace(xmin, xmax, 500)\n",
    "    kde0_x = kde0(x)\n",
    "    kde1_x = kde1(x)\n",
    "    inters_x = np.minimum(kde0_x, kde1_x)\n",
    "\n",
    "    area_inters_x = np.trapz(inters_x, x)\n",
    "    return(area_inters_x)"
   ]
  },
  {
   "cell_type": "code",
   "execution_count": 7,
   "metadata": {},
   "outputs": [
    {
     "data": {
      "text/plain": [
       "<matplotlib.legend.Legend at 0x1882ce83b48>"
      ]
     },
     "execution_count": 7,
     "metadata": {},
     "output_type": "execute_result"
    },
    {
     "data": {
      "image/png": "[encoded data removed]",
      "text/plain": [
       "<Figure size 1080x288 with 5 Axes>"
      ]
     },
     "metadata": {
      "needs_background": "light"
     },
     "output_type": "display_data"
    }
   ],
   "source": [
    "continuous = heart.select_dtypes(exclude = 'category').columns.tolist()\n",
    "\n",
    "col = len(continuous)\n",
    "\n",
    "fig,ax = plt.subplots(1,col,figsize = (15,4))\n",
    "\n",
    "for i,j in zip(continuous, range(col)):\n",
    "    overlap = str(round(kde_overlap_cal(i),4))\n",
    "    \n",
    "    g1 = sns.kdeplot(heart[i][heart['Condition'] == 0], ax=ax[j],color='lightblue', shade=True, legend = False)\n",
    "    g1 = sns.kdeplot(heart[i][heart['Condition'] == 1], ax=ax[j],color='#F24040', shade=True, legend = False)\n",
    "    g1.set_xlabel(i+'\\nIntersection:'+overlap)\n",
    "    g1.tick_params(left=False)\n",
    "    g1.spines['top'].set_visible(False)\n",
    "    g1.spines['left'].set_visible(False)\n",
    "    g1.spines['right'].set_visible(False)\n",
    "    g1.set(yticklabels=[])\n",
    "    \n",
    "plt.legend(title='Condition', loc='upper right', labels=[0, 1])"
   ]
  },
  {
   "cell_type": "markdown",
   "metadata": {},
   "source": [
    "### Comment\n",
    "\n",
    "From the graphs above, it seems that some of the parameters namely:\n",
    "- Resting Blood Pressure\n",
    "- Cholesterol\n",
    "\n",
    "Can't easily distinguish between patient with high risk of heart attack. It is also supported by looking at their overlap between condition 1 and 0. Those 2 paramteres have the highest overlap, i.e. has no distinction between condition 1 and 2 throughout their values."
   ]
  },
  {
   "cell_type": "code",
   "execution_count": 83,
   "metadata": {},
   "outputs": [],
   "source": [
    "def cat_dif_cal(cat):\n",
    "    temp_dict = {}\n",
    "    for j in cat:\n",
    "        temp = 0\n",
    "        for i in heart[j].unique():\n",
    "            temp = abs((len(heart[(heart['Condition'] == 1) & (heart[j] == i)]) - len(heart[(heart['Condition'] == 0) & (heart[j] == i)]))) + temp\n",
    "        temp_dict[j] = temp\n",
    "    return temp_dict"
   ]
  },
  {
   "cell_type": "code",
   "execution_count": 96,
   "metadata": {},
   "outputs": [
    {
     "data": {
      "text/plain": [
       "<matplotlib.legend.Legend at 0x188319010c8>"
      ]
     },
     "execution_count": 96,
     "metadata": {},
     "output_type": "execute_result"
    },
    {
     "data": {
      "image/png": "[encoded data removed]",
      "text/plain": [
       "<Figure size 1080x288 with 8 Axes>"
      ]
     },
     "metadata": {
      "needs_background": "light"
     },
     "output_type": "display_data"
    }
   ],
   "source": [
    "categorical = heart.select_dtypes(include = 'category').columns.tolist()\n",
    "categorical.remove('Condition')\n",
    "\n",
    "col2 = len(categorical)\n",
    "\n",
    "dif = cat_dif_cal(categorical)\n",
    "\n",
    "fig,ax = plt.subplots(1,col2,figsize = (15,4))\n",
    "\n",
    "for i,j in zip(categorical, range(col2)):        \n",
    "    g2 = sns.countplot(data = heart, x = i, ax = ax[j], hue = 'Condition', palette=['lightblue',\"#F24040\"])\n",
    "    g2.set_ylabel('')\n",
    "    g2.set_xlabel(i+'\\nAbsolute Diff:'+str(dif[i]))\n",
    "    g2.tick_params(left=False)\n",
    "    g2.spines['top'].set_visible(False)\n",
    "    g2.spines['left'].set_visible(False)\n",
    "    g2.spines['right'].set_visible(False)\n",
    "    g2.set(yticklabels=[])\n",
    "    g2.legend([],[], frameon=False)\n",
    "\n",
    "plt.legend(title='Condition', bbox_to_anchor=(1.5, 0.15, 0.5, 0.5), labels=[0, 1])"
   ]
  },
  {
   "cell_type": "markdown",
   "metadata": {},
   "source": []
  },
  {
   "cell_type": "code",
   "execution_count": 337,
   "metadata": {},
   "outputs": [],
   "source": [
    "temp_df = pd.DataFrame(columns = ['x', 'y', 'cat'])\n",
    "for k in continuous[0:-1]:\n",
    "    for i in range(heart[k].min(), (heart[k].max())):\n",
    "        temp_df.loc[len(temp_df)] = (i,\n",
    "                                     sum(heart[(heart[k] <= i) & (heart['Condition'] == 1)][k].value_counts().values)/sum(heart[(heart[k] <= i)][k].value_counts().values),\n",
    "                                     k)"
   ]
  },
  {
   "cell_type": "code",
   "execution_count": 388,
   "metadata": {
    "scrolled": false
   },
   "outputs": [
    {
     "data": {
      "image/png": "[encoded data removed]",
      "text/plain": [
       "<Figure size 1080x576 with 4 Axes>"
      ]
     },
     "metadata": {
      "needs_background": "light"
     },
     "output_type": "display_data"
    }
   ],
   "source": [
    "fig, ax = plt.subplots(nrows=2, ncols=2,figsize = (15,8),sharey=True)\n",
    "for col, ax in zip(continuous[0:-1], ax.flatten()):\n",
    "    g = sns.lineplot(data = temp_df[temp_df['cat'] == col], x = 'x', y = 'y', \n",
    "                     ax = ax, \n",
    "                     color = '#F24040', linewidth=3)\n",
    "    g.set_ylim(-0.03,1.03)\n",
    "    g.axhspan(0.5, 1.03, facecolor='grey', alpha=0.3)\n",
    "    g.set_xlabel(col)\n",
    "    g.set_ylabel('')\n",
    "    g.tick_params(left=False)"
   ]
  },
  {
   "cell_type": "code",
   "execution_count": 15,
   "metadata": {},
   "outputs": [
    {
     "data": {
      "text/plain": [
       "<matplotlib.axes._subplots.AxesSubplot at 0x1882e2907c8>"
      ]
     },
     "execution_count": 15,
     "metadata": {},
     "output_type": "execute_result"
    },
    {
     "data": {
      "image/png": "[encoded data removed]",
      "text/plain": [
       "<Figure size 1152x864 with 2 Axes>"
      ]
     },
     "metadata": {
      "needs_background": "light"
     },
     "output_type": "display_data"
    }
   ],
   "source": [
    "# https://www.kdnuggets.com/2021/04/awesome-tricks-best-practices-kaggle.html\n",
    "\n",
    "# Calculate pairwise-correlation\n",
    "matrix = heart.corr()\n",
    "\n",
    "# Create a mask\n",
    "mask = np.triu(np.ones_like(matrix, dtype=bool))\n",
    "\n",
    "# Create a custom diverging palette\n",
    "cmap = sns.diverging_palette(250, 15, s=75, l=40,\n",
    "                             n=9, center=\"light\", as_cmap=True)\n",
    "\n",
    "plt.figure(figsize=(16, 12))\n",
    "\n",
    "sns.heatmap(matrix, mask=mask, center=0, annot=True,\n",
    "             fmt='.2f', square=True, cmap=cmap)\n",
    "\n",
    "# plt.show();"
   ]
  },
  {
   "cell_type": "markdown",
   "metadata": {},
   "source": [
    "## Machine Learning Part"
   ]
  },
  {
   "cell_type": "code",
   "execution_count": null,
   "metadata": {},
   "outputs": [],
   "source": [
    "from sklearn.model_selection import train_test_split\n",
    "\n",
    "# algos\n",
    "from sklearn.model_selection import GridSearchCV\n",
    "\n",
    "from sklearn.ensemble import RandomForestClassifier\n",
    "from sklearn.svm import SVC\n",
    "\n",
    "# these are the metrices will be used\n",
    "from sklearn.metrics import roc_curve, auc\n",
    "from sklearn.metrics import confusion_matrix\n",
    "from sklearn.metrics import classification_report\n",
    "from sklearn.metrics import mean_absolute_error"
   ]
  },
  {
   "cell_type": "code",
   "execution_count": null,
   "metadata": {},
   "outputs": [],
   "source": [
    "# Separating the features (X) and target (y)\n",
    "# In this iteration, all features will be used\n",
    "\n",
    "features = heart.columns.values.tolist()\n",
    "features.remove('target')\n",
    "\n",
    "X = heart[features]\n",
    "\n",
    "y = heart['target']\n",
    "\n",
    "# Split into train and validation\n",
    "random_state = 1\n",
    "train_X, val_X, train_y, val_y = train_test_split(X, y, random_state=random_state)"
   ]
  },
  {
   "cell_type": "code",
   "execution_count": null,
   "metadata": {},
   "outputs": [],
   "source": [
    "# specify the model, first we will use random forest\n",
    "# we will also check the best n estimator for the model\n",
    "n_estimator = [10, 50, 100, 200, 500, 600]\n",
    "max_leaf_node = [5, 25, 50, 100, 250, 500]\n",
    "\n",
    "def get_mae(n_estimator, max_leaf_node, train_X, val_X, train_y, val_y):\n",
    "    # specify model\n",
    "    model = RandomForestClassifier(n_estimators = n_estimator, \n",
    "                                   max_leaf_nodes = max_leaf_node,\n",
    "                                   random_state = random_state)\n",
    "    \n",
    "    # fit the model into training data\n",
    "    model.fit(train_X, train_y)\n",
    "    \n",
    "    # make a prediction and calculate the MAE\n",
    "    preds_val = model.predict(val_X)\n",
    "    val_mae = mean_absolute_error(preds_val, val_y)\n",
    "    \n",
    "    return val_mae"
   ]
  },
  {
   "cell_type": "code",
   "execution_count": null,
   "metadata": {},
   "outputs": [],
   "source": [
    "# make prediction using the validation data and calculate the MAE\n",
    "rows_list = []\n",
    "# mae_df = pd.DataFrame(columns = ['n_estimators','max_leaf_node','MAE'])\n",
    "for i in n_estimator:\n",
    "    for j in max_leaf_node:\n",
    "        mae = get_mae(i,j, train_X, val_X, train_y, val_y)\n",
    "        dict1 = {}\n",
    "        dict1.update({'n_estimators':i,\n",
    "                      'max_leaf_node':j,\n",
    "                      'MAE':mae})\n",
    "        rows_list.append(dict1)\n",
    "        \n",
    "mae_df = pd.DataFrame(rows_list)"
   ]
  },
  {
   "cell_type": "code",
   "execution_count": null,
   "metadata": {},
   "outputs": [],
   "source": [
    "(ggplot(mae_df)\n",
    " + facet_grid(facets=\"~n_estimators\")\n",
    " + aes(x = 'max_leaf_node', y = 'MAE')\n",
    " + labs(title = 'n_estimators and max_leaf_node \\nbehaviour to MAE', y=\"MAE\")\n",
    " + geom_line(color = 'blue')\n",
    " + theme(figure_size=(10, 4))\n",
    ")"
   ]
  },
  {
   "cell_type": "code",
   "execution_count": null,
   "metadata": {},
   "outputs": [],
   "source": [
    "print(\"n_estimator with lowest MAE:\",mae_df[mae_df['MAE'] == mae_df['MAE'].min()].n_estimators.values[0])\n",
    "print(\"max_leaf_node with lowest MAE:\",mae_df[mae_df['MAE'] == mae_df['MAE'].min()].max_leaf_node.values[0])"
   ]
  },
  {
   "cell_type": "code",
   "execution_count": null,
   "metadata": {},
   "outputs": [],
   "source": [
    "param_grid = {'n_estimators': n_estimator, \n",
    "              'max_leaf_nodes': max_leaf_node,\n",
    "              'max_features': ['auto', 'sqrt'], \n",
    "              'bootstrap': [True, False], \n",
    "              'criterion':['entropy', 'gini']}\n",
    "\n",
    "rfcgrid = GridSearchCV(RandomForestClassifier(random_state=1), param_grid, verbose=100, cv=10, n_jobs=-2)\n",
    "rfcgrid.fit(train_X, train_y)"
   ]
  },
  {
   "cell_type": "code",
   "execution_count": null,
   "metadata": {},
   "outputs": [],
   "source": [
    "rfcgrid.best_params_"
   ]
  },
  {
   "cell_type": "code",
   "execution_count": null,
   "metadata": {},
   "outputs": [],
   "source": [
    "get_mae(600,25,train_X, val_X, train_y, val_y)"
   ]
  },
  {
   "cell_type": "code",
   "execution_count": null,
   "metadata": {},
   "outputs": [],
   "source": []
  }
 ],
 "metadata": {
  "kernelspec": {
   "display_name": "Python 3",
   "language": "python",
   "name": "python3"
  },
  "language_info": {
   "codemirror_mode": {
    "name": "ipython",
    "version": 3
   },
   "file_extension": ".py",
   "mimetype": "text/x-python",
   "name": "python",
   "nbconvert_exporter": "python",
   "pygments_lexer": "ipython3",
   "version": "3.7.4"
  }
 },
 "nbformat": 4,
 "nbformat_minor": 2
}
